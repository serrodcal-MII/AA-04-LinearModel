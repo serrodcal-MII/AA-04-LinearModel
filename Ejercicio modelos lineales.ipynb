{
 "cells": [
  {
   "cell_type": "markdown",
   "metadata": {},
   "source": [
    "# Modelos lineales (ejercicio)"
   ]
  },
  {
   "cell_type": "markdown",
   "metadata": {},
   "source": [
    "**Autor**: Sergio Rodríguez Calvo"
   ]
  },
  {
   "cell_type": "markdown",
   "metadata": {},
   "source": [
    "**Importante: comentar adecuadamente cada paso realizado**, relacionándolo con lo visto en la teoría."
   ]
  },
  {
   "cell_type": "markdown",
   "metadata": {},
   "source": [
    "## Parte 1: aplicación de modelos lineales a análisis de sentimientos"
   ]
  },
  {
   "cell_type": "markdown",
   "metadata": {},
   "source": [
    "Se pide aplicar algunos de los clasificadores lineales vistos al problema de decidir si una crítica de cine es positiva o negativa. Para ello volvemos a usar los datos de IMDB (Internet Movie Database) que vimos en el módulo 2 (modelo probabilístico).\n",
    "\n",
    "Los datos están disponibles en http://ai.stanford.edu/~amaas/data/sentiment/\n",
    "\n",
    "Vectorizar los textos exactamente como se hizo en la sesión de trabajo del módulo 2, **con *stop_words* y *min_df=100***. \n",
    "\n",
    "Una vez los datos (entrenamiento y prueba) estén vectorizados, aplicar los siguientes clasificadores de scikit learn y medir el rendimiento obtenido:\n",
    "\n",
    "* `LogisticRegression`\n",
    "* `LinearSVC`\n",
    "\n",
    "Probar en cada caso con distintos valores del parámetro `C` de regularización, para obtener el mejor rendimiento sobre el conjunto de test. Explicar claramente el efecto que tiene variar ese parámetro en un sentido o en otro. "
   ]
  },
  {
   "cell_type": "code",
   "execution_count": 1,
   "metadata": {},
   "outputs": [],
   "source": [
    "from sklearn.datasets import load_files\n",
    "reviews_train = load_files(\"aclImdb/train/\")\n",
    "text_train, y_train = reviews_train.data, reviews_train.target"
   ]
  },
  {
   "cell_type": "code",
   "execution_count": 2,
   "metadata": {},
   "outputs": [
    {
     "name": "stdout",
     "output_type": "stream",
     "text": [
      "Cantidad de textos en el conjunto de entrenamiento: 25000\n",
      "Etiquetas: ['neg', 'pos']\n"
     ]
    }
   ],
   "source": [
    "print(\"Cantidad de textos en el conjunto de entrenamiento: {}\".format(len(text_train)))\n",
    "print(\"Etiquetas: {}\".format(reviews_train.target_names))"
   ]
  },
  {
   "cell_type": "code",
   "execution_count": 3,
   "metadata": {},
   "outputs": [
    {
     "name": "stdout",
     "output_type": "stream",
     "text": [
      "text_train[6]:\n",
      "b\"This movie has a special way of telling the story, at first i found it rather odd as it jumped through time and I had no idea whats happening.<br /><br />Anyway the story line was although simple, but still very real and touching. You met someone the first time, you fell in love completely, but broke up at last and promoted a deadly agony. Who hasn't go through this? but we will never forget this kind of pain in our life. <br /><br />I would say i am rather touched as two actor has shown great performance in showing the love between the characters. I just wish that the story could be a happy ending.\"\n",
      "\n",
      "y_train[6]: 1\n",
      "\n",
      "Etiqueta asociada: pos\n"
     ]
    }
   ],
   "source": [
    "print(\"text_train[6]:\\n{}\\n\".format(text_train[6]))\n",
    "print(\"y_train[6]: {}\\n\".format(y_train[6]))\n",
    "print(\"Etiqueta asociada: {}\".format(reviews_train.target_names[y_train[6]]))"
   ]
  },
  {
   "cell_type": "code",
   "execution_count": 4,
   "metadata": {},
   "outputs": [
    {
     "name": "stdout",
     "output_type": "stream",
     "text": [
      "text_train[25]:\n",
      "b\"A chemical spill is turning people into zombies. It's up to two doctor's to survive the epidemic. It's an Andreas Schnaas film so you know what the par for the course will be. Bad acting, horribly awful special effects, and no budget to speak of. The dubbing is ridiculous with a capital R and the saddest thing is that I feel compelled to write one word about this piece of excrement, much less the ten lines mandatory because of the guidelines placed on me by IMDb. My original review of merely one word: Crap wouldn't fly so I have to revise it and go more in to how bad it is. But I don't know if I can, so.. wait I think I may have enough words, or lines rather to make this review pass. Which is cool, I guess. So in summation: This movie sucks balls, don't watch it.<br /><br />My Grade: F\"\n",
      "\n",
      "y_train[25]: 0\n",
      "\n",
      "Etiqueta asociada: neg\n"
     ]
    }
   ],
   "source": [
    "print(\"text_train[25]:\\n{}\\n\".format(text_train[25]))\n",
    "print(\"y_train[25]: {}\\n\".format(y_train[25]))\n",
    "print(\"Etiqueta asociada: {}\".format(reviews_train.target_names[y_train[25]]))"
   ]
  },
  {
   "cell_type": "code",
   "execution_count": 5,
   "metadata": {},
   "outputs": [],
   "source": [
    "text_train = [doc.replace(b\"<br />\", b\" \") for doc in text_train]"
   ]
  },
  {
   "cell_type": "code",
   "execution_count": 6,
   "metadata": {},
   "outputs": [
    {
     "name": "stdout",
     "output_type": "stream",
     "text": [
      "Ejemplos por cada clase: [12500 12500]\n"
     ]
    }
   ],
   "source": [
    "import numpy as np\n",
    "print(\"Ejemplos por cada clase: {}\".format(np.bincount(y_train)))"
   ]
  },
  {
   "cell_type": "code",
   "execution_count": 7,
   "metadata": {},
   "outputs": [],
   "source": [
    "reviews_test = load_files(\"aclImdb/test/\")\n",
    "text_test, y_test = reviews_test.data, reviews_test.target"
   ]
  },
  {
   "cell_type": "code",
   "execution_count": 8,
   "metadata": {},
   "outputs": [
    {
     "name": "stdout",
     "output_type": "stream",
     "text": [
      "Cantidad de textos en el conjunto de prueba: 25000\n"
     ]
    }
   ],
   "source": [
    "print(\"Cantidad de textos en el conjunto de prueba: {}\".format(len(text_test)))"
   ]
  },
  {
   "cell_type": "code",
   "execution_count": 9,
   "metadata": {},
   "outputs": [],
   "source": [
    "text_test = [doc.replace(b\"<br />\", b\" \") for doc in text_test]"
   ]
  },
  {
   "cell_type": "code",
   "execution_count": 10,
   "metadata": {},
   "outputs": [
    {
     "name": "stdout",
     "output_type": "stream",
     "text": [
      "Ejemplos por cada clase: [12500 12500]\n"
     ]
    }
   ],
   "source": [
    "print(\"Ejemplos por cada clase: {}\".format(np.bincount(y_test)))"
   ]
  },
  {
   "cell_type": "code",
   "execution_count": 11,
   "metadata": {},
   "outputs": [],
   "source": [
    "from sklearn.feature_extraction.text import CountVectorizer\n",
    "vect = CountVectorizer(min_df=100, stop_words=\"english\").fit(text_train)\n",
    "X_train = vect.transform(text_train)"
   ]
  },
  {
   "cell_type": "code",
   "execution_count": 12,
   "metadata": {},
   "outputs": [
    {
     "name": "stdout",
     "output_type": "stream",
     "text": [
      "Número de términos en el vocabulario con stop words y min_df: 3561\n"
     ]
    }
   ],
   "source": [
    "feature_names = vect.get_feature_names_out()\n",
    "print(\"Número de términos en el vocabulario con stop words y min_df: {}\".format(len(feature_names)))"
   ]
  },
  {
   "cell_type": "code",
   "execution_count": 13,
   "metadata": {},
   "outputs": [],
   "source": [
    "X_test = vect.transform(text_test)"
   ]
  },
  {
   "cell_type": "code",
   "execution_count": 14,
   "metadata": {},
   "outputs": [],
   "source": [
    "from sklearn.linear_model import LogisticRegression"
   ]
  },
  {
   "cell_type": "code",
   "execution_count": 15,
   "metadata": {},
   "outputs": [
    {
     "name": "stdout",
     "output_type": "stream",
     "text": [
      "Rendimiento sobre entrenamiento: 0.935\n",
      "Rendimiento sobre el conjunto de prueba: 0.849\n"
     ]
    }
   ],
   "source": [
    "logreg = LogisticRegression(max_iter=10000).fit(X_train, y_train)\n",
    "print(\"Rendimiento sobre entrenamiento: {:.3f}\".format(logreg.score(X_train, y_train)))\n",
    "print(\"Rendimiento sobre el conjunto de prueba: {:.3f}\".format(logreg.score(X_test, y_test)))"
   ]
  },
  {
   "cell_type": "code",
   "execution_count": 16,
   "metadata": {},
   "outputs": [
    {
     "name": "stdout",
     "output_type": "stream",
     "text": [
      "Rendimiento sobre entrenamiento: 0.939\n",
      "Rendimiento sobre el conjunto de prueba: 0.835\n"
     ]
    }
   ],
   "source": [
    "logreg100 = LogisticRegression(C=100, max_iter=10000).fit(X_train, y_train)\n",
    "print(\"Rendimiento sobre entrenamiento: {:.3f}\".format(logreg100.score(X_train, y_train)))\n",
    "print(\"Rendimiento sobre el conjunto de prueba: {:.3f}\".format(logreg100.score(X_test, y_test)))"
   ]
  },
  {
   "cell_type": "code",
   "execution_count": 17,
   "metadata": {},
   "outputs": [
    {
     "name": "stdout",
     "output_type": "stream",
     "text": [
      "Rendimiento sobre entrenamiento: 0.897\n",
      "Rendimiento sobre el conjunto de prueba: 0.872\n"
     ]
    }
   ],
   "source": [
    "logreg001 = LogisticRegression(C=0.01, max_iter=10000).fit(X_train, y_train)\n",
    "print(\"Rendimiento sobre entrenamiento: {:.3f}\".format(logreg001.score(X_train, y_train)))\n",
    "print(\"Rendimiento sobre el conjunto de prueba: {:.3f}\".format(logreg001.score(X_test, y_test)))"
   ]
  },
  {
   "cell_type": "code",
   "execution_count": 18,
   "metadata": {},
   "outputs": [
    {
     "name": "stderr",
     "output_type": "stream",
     "text": [
      "/usr/local/lib/python3.9/site-packages/sklearn/svm/_base.py:1206: ConvergenceWarning: Liblinear failed to converge, increase the number of iterations.\n",
      "  warnings.warn(\n"
     ]
    }
   ],
   "source": [
    "from sklearn.svm import LinearSVC\n",
    "linear_svm = LinearSVC().fit(X_train, y_train)"
   ]
  },
  {
   "cell_type": "markdown",
   "metadata": {},
   "source": [
    "## Parte 2: modelos lineales para reconocimiento de dígitos escritos a mano\n",
    "\n",
    "\n",
    "La función `load_digits` nos permite cargar una versión reducida de un conjunto de imágenes de dígitos escritos a mano (ver detalles en el manual):"
   ]
  },
  {
   "cell_type": "code",
   "execution_count": 19,
   "metadata": {},
   "outputs": [],
   "source": [
    "import matplotlib.pyplot as plt\n",
    "from sklearn.datasets import load_digits"
   ]
  },
  {
   "cell_type": "code",
   "execution_count": 20,
   "metadata": {},
   "outputs": [],
   "source": [
    "digits = load_digits()"
   ]
  },
  {
   "cell_type": "markdown",
   "metadata": {},
   "source": [
    "Podemos incluso visualizar los dígitos. Por ejemplo, este es el primero de ellos (un cero):"
   ]
  },
  {
   "cell_type": "code",
   "execution_count": 21,
   "metadata": {},
   "outputs": [
    {
     "data": {
      "text/plain": [
       "<Figure size 432x288 with 0 Axes>"
      ]
     },
     "metadata": {},
     "output_type": "display_data"
    },
    {
     "data": {
      "image/png": "[encoded data removed]",
      "text/plain": [
       "<Figure size 288x288 with 1 Axes>"
      ]
     },
     "metadata": {
      "needs_background": "light"
     },
     "output_type": "display_data"
    },
    {
     "name": "stdout",
     "output_type": "stream",
     "text": [
      "0\n"
     ]
    }
   ],
   "source": [
    "plt.gray()\n",
    "plt.matshow(digits.images[0]) \n",
    "plt.show() \n",
    "print(digits.target[0])"
   ]
  },
  {
   "cell_type": "markdown",
   "metadata": {},
   "source": [
    "### 2.1 Clasificación de dígitos escritos a mano con regresión logística (multiclase)\n",
    "\n",
    "Se pide aplicar regresión logística para obtener un clasificador para este problema multiclase. Probar con varios valores del parámetro `C` para obtener el mejor rendimiento sobre un conjunto de prueba. \n",
    "\n",
    "Algunas observaciones:\n",
    "\n",
    "* Originalmente, en `digits.images` tenemos un array con 1797 arrays 8x8 (es decir, cada imagen viene en 64 pixeles distribuidos en 8 filas y 8 clolumnas). Para poder aplicar los clasificadores, cada imagen debe ser un vector de 64 componentes. Esto se consigue de manera sencilla con el método `reshape`de numpy. \n",
    "* Es necesario separar el conjunto de imágenes en entrenamiento y prueba. No olvidar hacerlo de manera estratificada (usando la opción `stratify`de `train_test_split`)\n",
    "* Medir el rendimiento usando `score`. "
   ]
  },
  {
   "cell_type": "code",
   "execution_count": 22,
   "metadata": {},
   "outputs": [
    {
     "name": "stdout",
     "output_type": "stream",
     "text": [
      "Forma de los datos:  (1797, 64)\n",
      "Forma de las imagenes:  (1797, 8, 8)\n"
     ]
    }
   ],
   "source": [
    "print(\"Forma de los datos: \", digits.data.shape)\n",
    "print(\"Forma de las imagenes: \", digits.images.shape)"
   ]
  },
  {
   "cell_type": "markdown",
   "metadata": {},
   "source": [
    "Vamos a trabajar con el campo `data` para obtener un vector de 64 componentes para las 1797 imagenes escritas a mano. Será suficiente con hacer un `reshape(8,8)` cuando necesitemos mostrar el número."
   ]
  },
  {
   "cell_type": "code",
   "execution_count": 23,
   "metadata": {},
   "outputs": [],
   "source": [
    "from sklearn.model_selection import train_test_split\n",
    "X_train, X_test, y_train, y_test = train_test_split(\n",
    "    digits.data, digits.target, stratify=digits.target, random_state=42)"
   ]
  },
  {
   "cell_type": "markdown",
   "metadata": {},
   "source": [
    "Separamos los dígitos en dos conjuntos, uno de entrenamiento y otro de prueba. A continuación, vamos a aplicar la regresión logistica con parámetros:\n",
    "* `multi_class` igual a `ovr` para seleccionar el modo multiclase\n",
    "* `max_iter` suficientemente grande para permitir al modelo converger y evitar los _warnings_"
   ]
  },
  {
   "cell_type": "code",
   "execution_count": 24,
   "metadata": {},
   "outputs": [
    {
     "name": "stdout",
     "output_type": "stream",
     "text": [
      "Rendimiento sobre entrenamiento: 0.999\n",
      "Rendimiento sobre el conjunto de prueba: 0.962\n"
     ]
    }
   ],
   "source": [
    "from sklearn.linear_model import LogisticRegression\n",
    "logreg = LogisticRegression(multi_class='ovr', max_iter=10000).fit(X_train, y_train)\n",
    "print(\"Rendimiento sobre entrenamiento: {:.3f}\".format(logreg.score(X_train, y_train)))\n",
    "print(\"Rendimiento sobre el conjunto de prueba: {:.3f}\".format(logreg.score(X_test, y_test)))"
   ]
  },
  {
   "cell_type": "markdown",
   "metadata": {},
   "source": [
    "Vemos que el rendimiento sobre el conjunto de entrenamiento es 1, por lo que tenemos sobreajuste. Vamos a probar con diferentes regularizaciones utilizando el parámetro `C`, de modo que:\n",
    "* Si aumentamos el valor de `C`, bajamos la regularización\n",
    "* Si disminuimos el valor de `C`, subimos la regularización."
   ]
  },
  {
   "cell_type": "code",
   "execution_count": 25,
   "metadata": {},
   "outputs": [
    {
     "name": "stdout",
     "output_type": "stream",
     "text": [
      "Rendimiento sobre entrenamiento: 1.000\n",
      "Rendimiento sobre el conjunto de prueba: 0.953\n"
     ]
    }
   ],
   "source": [
    "logreg100 = LogisticRegression(C=100, multi_class='ovr', max_iter=10000).fit(X_train, y_train)\n",
    "print(\"Rendimiento sobre entrenamiento: {:.3f}\".format(logreg100.score(X_train, y_train)))\n",
    "print(\"Rendimiento sobre el conjunto de prueba: {:.3f}\".format(logreg100.score(X_test, y_test)))"
   ]
  },
  {
   "cell_type": "code",
   "execution_count": 26,
   "metadata": {},
   "outputs": [
    {
     "name": "stdout",
     "output_type": "stream",
     "text": [
      "Rendimiento sobre entrenamiento: 0.986\n",
      "Rendimiento sobre el conjunto de prueba: 0.969\n"
     ]
    }
   ],
   "source": [
    "logreg001 = LogisticRegression(C=0.01, multi_class='ovr', max_iter=10000).fit(X_train, y_train)\n",
    "print(\"Rendimiento sobre entrenamiento: {:.3f}\".format(logreg001.score(X_train, y_train)))\n",
    "print(\"Rendimiento sobre el conjunto de prueba: {:.3f}\".format(logreg001.score(X_test, y_test)))"
   ]
  },
  {
   "cell_type": "markdown",
   "metadata": {},
   "source": [
    "El mejor resultado lo obtenemos con `C=0.01`, es decir, subiendo la regularización."
   ]
  },
  {
   "cell_type": "markdown",
   "metadata": {},
   "source": [
    "### 2.2 Clasificación binaria usando regresión logística\n",
    "\n",
    "Una vez encontrado un buen clasificador para el problema multiclase, mostrar la matriz de confusión finalmente obtenida sobre el conjunto de prueba. También mostrar las imágenes de un par de dígitos respectivamente hayan sido bien y mal clasificados.  Usando `predict_proba` mostrar las predicciones que realiza el modelo sobre esos dos dígitos, y comentar los resultados. \n",
    "\n",
    "Deducir de la matriz de confusión un par de dígitos que en general cueste más trabajo distinguir entre sí, y extraer de los datos sólo las imágenes correspondientes a esos dos dígitos. Por ejemplo: si se observa que entre el 8 y el 9 hay más errores de predicción, habría que extraer todas las imágenes de ochos y nueves y crear un conjunto de datos con ellas.  \n",
    "\n",
    "Crear a partir de esos datos extraidos,  conjuntos de entrenamiento y prueba para aprender con regresión logística un clasificador que sea \"especialista\" es distinguir un dígito del otro. Como antes, probar con varios valores del parámetro para intentar obtener un buen rendimiento sobre el conjunto de prueba.\n",
    "\n",
    "**Nota**: para extraer los datos correspondiente a un dígito, aplicar selección condicional de numpy. Por ejemplo, con `digits.target==8` obtenemos un array booleano en el que están a `True` solo las posiciones de los ejemplos cuyo target es 8. Si tenemos un array `a`, entonces `a[digits.target ==8]` es el array en el que se han seleccionado sólo esas posiciones.  \n",
    "`  "
   ]
  },
  {
   "cell_type": "markdown",
   "metadata": {},
   "source": [
    "Vamos a obtener las predicciones utilizando el mejor de los modelos anteriores."
   ]
  },
  {
   "cell_type": "code",
   "execution_count": 27,
   "metadata": {},
   "outputs": [],
   "source": [
    "predictions = logreg001.predict(X_test)"
   ]
  },
  {
   "cell_type": "markdown",
   "metadata": {},
   "source": [
    "Vamos a realizar una matrix de confusión para ver cuáles números clasifica mejor y cuáles peor."
   ]
  },
  {
   "cell_type": "code",
   "execution_count": 28,
   "metadata": {},
   "outputs": [
    {
     "name": "stdout",
     "output_type": "stream",
     "text": [
      "[[44  0  0  0  1  0  0  0  0  0]\n",
      " [ 0 42  0  1  0  1  1  0  1  0]\n",
      " [ 0  0 44  0  0  0  0  0  0  0]\n",
      " [ 0  0  0 46  0  0  0  0  0  0]\n",
      " [ 0  0  0  0 45  0  0  0  0  0]\n",
      " [ 0  0  0  0  0 45  0  0  0  1]\n",
      " [ 0  1  0  0  0  0 43  0  1  0]\n",
      " [ 0  0  0  0  0  0  0 45  0  0]\n",
      " [ 0  2  0  0  0  0  1  0 40  0]\n",
      " [ 0  0  0  0  1  0  0  1  1 42]]\n"
     ]
    }
   ],
   "source": [
    "from sklearn import metrics\n",
    "cm = metrics.confusion_matrix(y_test, predictions)\n",
    "print(cm)"
   ]
  },
  {
   "cell_type": "markdown",
   "metadata": {},
   "source": [
    "Vamos a mostrar la matriz de confusión de una forma más visual utilizando `seaborn`, una librería de alto nivel sobre _matplotlib_."
   ]
  },
  {
   "cell_type": "code",
   "execution_count": 29,
   "metadata": {},
   "outputs": [],
   "source": [
    "import seaborn as sns\n",
    "def heatmap(cm):\n",
    "    plt.figure(figsize=(9,9))\n",
    "    sns.heatmap(cm, annot=True, fmt=\".3f\", linewidths=.5, square = True, cmap = 'Blues_r');\n",
    "    plt.ylabel('Actual label');\n",
    "    plt.xlabel('Predicted label');"
   ]
  },
  {
   "cell_type": "code",
   "execution_count": 30,
   "metadata": {},
   "outputs": [
    {
     "data": {
      "image/png": "[encoded data removed]",
      "text/plain": [
       "<Figure size 648x648 with 2 Axes>"
      ]
     },
     "metadata": {
      "needs_background": "light"
     },
     "output_type": "display_data"
    }
   ],
   "source": [
    "heatmap(cm)"
   ]
  },
  {
   "cell_type": "markdown",
   "metadata": {},
   "source": [
    "Vemos que los números que peor clasifica son 8, 9 y 2, respectivamente."
   ]
  },
  {
   "cell_type": "markdown",
   "metadata": {},
   "source": [
    "Ahora, vamos a obtener aquellos números que ha clasificado mal y a seleccionar dos de ellos."
   ]
  },
  {
   "cell_type": "code",
   "execution_count": 31,
   "metadata": {},
   "outputs": [
    {
     "data": {
      "text/plain": [
       "[0, 25]"
      ]
     },
     "execution_count": 31,
     "metadata": {},
     "output_type": "execute_result"
    }
   ],
   "source": [
    "wrong_values = []\n",
    "for i in range(len(predictions)):\n",
    "    if predictions[i] != y_test[i]:\n",
    "        wrong_values.append(i)\n",
    "\n",
    "wrong_values[:2]"
   ]
  },
  {
   "cell_type": "markdown",
   "metadata": {},
   "source": [
    "Obtenemos los valores de las posiciones 0 y 25 de las predicciones sobre el conjunto de prueba. A continuación, vamos a mostrar estos números visualmente, para lo que tendremos que ejecutar un reescalado."
   ]
  },
  {
   "cell_type": "code",
   "execution_count": 32,
   "metadata": {},
   "outputs": [
    {
     "data": {
      "text/plain": [
       "<Figure size 432x288 with 0 Axes>"
      ]
     },
     "metadata": {},
     "output_type": "display_data"
    },
    {
     "data": {
      "image/png": "[encoded data removed]",
      "text/plain": [
       "<Figure size 288x288 with 1 Axes>"
      ]
     },
     "metadata": {
      "needs_background": "light"
     },
     "output_type": "display_data"
    },
    {
     "name": "stdout",
     "output_type": "stream",
     "text": [
      "El número es:  1\n"
     ]
    }
   ],
   "source": [
    "plt.gray()\n",
    "plt.matshow(X_test[wrong_values[0]].reshape(8,8)) \n",
    "plt.show() \n",
    "print(\"El número es: \",y_test[wrong_values[0]])"
   ]
  },
  {
   "cell_type": "code",
   "execution_count": 33,
   "metadata": {},
   "outputs": [
    {
     "data": {
      "text/plain": [
       "<Figure size 432x288 with 0 Axes>"
      ]
     },
     "metadata": {},
     "output_type": "display_data"
    },
    {
     "data": {
      "image/png": "[encoded data removed]",
      "text/plain": [
       "<Figure size 288x288 with 1 Axes>"
      ]
     },
     "metadata": {
      "needs_background": "light"
     },
     "output_type": "display_data"
    },
    {
     "name": "stdout",
     "output_type": "stream",
     "text": [
      "El número es:  8\n"
     ]
    }
   ],
   "source": [
    "plt.gray()\n",
    "plt.matshow(X_test[wrong_values[1]].reshape(8,8)) \n",
    "plt.show() \n",
    "print(\"El número es: \", y_test[wrong_values[1]])"
   ]
  },
  {
   "cell_type": "markdown",
   "metadata": {},
   "source": [
    "Vemos como, efectivamente, ambos números son difíciles de interpretar."
   ]
  },
  {
   "cell_type": "code",
   "execution_count": 34,
   "metadata": {},
   "outputs": [
    {
     "data": {
      "text/plain": [
       "array([[1.33316979e-04, 1.54489425e-01, 5.87252970e-04, 3.90356635e-06,\n",
       "        7.69303096e-03, 4.38620112e-01, 5.59937465e-02, 1.91950945e-03,\n",
       "        3.40545707e-01, 1.39959890e-05]])"
      ]
     },
     "execution_count": 34,
     "metadata": {},
     "output_type": "execute_result"
    }
   ],
   "source": [
    "logreg001.predict_proba([X_test[wrong_values[0]]])"
   ]
  },
  {
   "cell_type": "code",
   "execution_count": 35,
   "metadata": {},
   "outputs": [
    {
     "data": {
      "text/plain": [
       "array([[1.33316979e-04, 1.54489425e-01, 5.87252970e-04, 3.90356635e-06,\n",
       "        7.69303096e-03, 4.38620112e-01, 5.59937465e-02, 1.91950945e-03,\n",
       "        3.40545707e-01, 1.39959890e-05]])"
      ]
     },
     "execution_count": 35,
     "metadata": {},
     "output_type": "execute_result"
    }
   ],
   "source": [
    "logreg001.predict_proba([X_test[wrong_values[0]]])"
   ]
  },
  {
   "cell_type": "markdown",
   "metadata": {},
   "source": [
    "Con `predict_proba` obtenemos la probabilidad que obtiene el modelo para cada número. Visualmente son muy parecidos, por lo que el modelo \"duda\" entre 1, 5 y 8 para ambos casos."
   ]
  },
  {
   "cell_type": "markdown",
   "metadata": {},
   "source": [
    "Vamos ahora a seleccionar los dos números en los que el modelo anterior saca peor puntuacion, que en este caso son el 8 y el 9 (dejamos fuera el 2) y, a continuación, vamos a crear un conjunto de entrenamiento y otro de pruebas."
   ]
  },
  {
   "cell_type": "code",
   "execution_count": 36,
   "metadata": {},
   "outputs": [],
   "source": [
    "X, y = digits.data, digits.target\n",
    "X_data = X[np.logical_or(y == 8, y == 9)]\n",
    "y_data = y[np.logical_or(y == 8, y == 9)]\n",
    "X_train, X_test, y_train, y_test = train_test_split(\n",
    "    X_data, y_data, stratify=y_data, random_state=42)\n"
   ]
  },
  {
   "cell_type": "markdown",
   "metadata": {},
   "source": [
    "Vamos a probar, esta vez dentro de un bucle, diferentes configuraciones del modelo para distintos niveles de regularización."
   ]
  },
  {
   "cell_type": "code",
   "execution_count": 40,
   "metadata": {},
   "outputs": [
    {
     "name": "stdout",
     "output_type": "stream",
     "text": [
      "Rendimiento sobre el conjunto de entrenamiento (C = 0.01): 1.000\n",
      "Rendimiento sobre el conjunto de prueba (C = 0.01): 0.978\n",
      "\n",
      "Rendimiento sobre el conjunto de entrenamiento (C = 1): 1.000\n",
      "Rendimiento sobre el conjunto de prueba (C = 1): 0.978\n",
      "\n",
      "Rendimiento sobre el conjunto de entrenamiento (C = 100): 1.000\n",
      "Rendimiento sobre el conjunto de prueba (C = 100): 0.966\n",
      "\n",
      "Mejor rendimiento (C = 0.01): 0.978\n",
      "Peor rendimiento (C = 100): 0.966\n"
     ]
    }
   ],
   "source": [
    "best_score = 0\n",
    "worst_score = 1\n",
    "best_values = -1\n",
    "worst_values = -1\n",
    "\n",
    "C = [0.01, 1, 100]\n",
    "\n",
    "for c in C:\n",
    "    logreg = LogisticRegression(C=c, max_iter=10000).fit(X_train, y_train)\n",
    "    score = logreg.score(X_test, y_test)\n",
    "    if score > best_score:\n",
    "        best_score = score\n",
    "        best_values = c\n",
    "        \n",
    "    if score < worst_score:\n",
    "        worst_score = score\n",
    "        worst_values = c\n",
    "    \n",
    "    print(\"Rendimiento sobre el conjunto de entrenamiento (C = {}): {:.3f}\".format(c, logreg.score(X_train, y_train)))\n",
    "    print(\"Rendimiento sobre el conjunto de prueba (C = {}): {:.3f}\\n\".format(c, score))\n",
    "    \n",
    "print(\"Mejor rendimiento (C = {}): {:.3f}\".format(best_values, best_score))\n",
    "print(\"Peor rendimiento (C = {}): {:.3f}\".format(worst_values, worst_score))"
   ]
  },
  {
   "cell_type": "markdown",
   "metadata": {},
   "source": [
    "En este caso, los tres modelos tienen sobreajuste, pero con `C=1` obtenemos el mejor rendimiento sobre el conjunto de prueba."
   ]
  },
  {
   "cell_type": "markdown",
   "metadata": {},
   "source": [
    "### 2.3 Clasificación de dígitos con SVC (multiclase)\n",
    "\n",
    "Volviendo al problema multiclase de 2.1, aplicar ahora máquinas de vectores soporte con kernel (`SVC`) para el problema de reconocer los dígitos. Probar al menos con varios valores de los parámetros `C` y `gamma`, para obtener un buen rendimiento sobre el conjunto de prueba. "
   ]
  },
  {
   "cell_type": "markdown",
   "metadata": {},
   "source": [
    "Vamos a probar con varios valores de `C` y `gamma`, también, utilizando un bucle como el anterior. Además, hemos utilizado el parámetro `decision_function_shape` igual a `ovo` para indicar que queremos el modo multiclase."
   ]
  },
  {
   "cell_type": "code",
   "execution_count": 41,
   "metadata": {},
   "outputs": [
    {
     "name": "stdout",
     "output_type": "stream",
     "text": [
      "Rendimiento sobre el conjunto de entrenamiento (gamma = 0.01, C = 0.01): 0.509\n",
      "Rendimiento sobre el conjunto de prueba (gamma = 0.01, C = 0.01): 0.5056179775280899\n",
      "\n",
      "Rendimiento sobre el conjunto de entrenamiento (gamma = 1, C = 0.01): 0.509\n",
      "Rendimiento sobre el conjunto de prueba (gamma = 1, C = 0.01): 0.5056179775280899\n",
      "\n",
      "Rendimiento sobre el conjunto de entrenamiento (gamma = 100, C = 0.01): 0.509\n",
      "Rendimiento sobre el conjunto de prueba (gamma = 100, C = 0.01): 0.5056179775280899\n",
      "\n",
      "Rendimiento sobre el conjunto de entrenamiento (gamma = 0.01, C = 1): 1.000\n",
      "Rendimiento sobre el conjunto de prueba (gamma = 0.01, C = 1): 0.898876404494382\n",
      "\n",
      "Rendimiento sobre el conjunto de entrenamiento (gamma = 1, C = 1): 1.000\n",
      "Rendimiento sobre el conjunto de prueba (gamma = 1, C = 1): 0.5056179775280899\n",
      "\n",
      "Rendimiento sobre el conjunto de entrenamiento (gamma = 100, C = 1): 1.000\n",
      "Rendimiento sobre el conjunto de prueba (gamma = 100, C = 1): 0.5056179775280899\n",
      "\n",
      "Rendimiento sobre el conjunto de entrenamiento (gamma = 0.01, C = 100): 1.000\n",
      "Rendimiento sobre el conjunto de prueba (gamma = 0.01, C = 100): 0.898876404494382\n",
      "\n",
      "Rendimiento sobre el conjunto de entrenamiento (gamma = 1, C = 100): 1.000\n",
      "Rendimiento sobre el conjunto de prueba (gamma = 1, C = 100): 0.5056179775280899\n",
      "\n",
      "Rendimiento sobre el conjunto de entrenamiento (gamma = 100, C = 100): 1.000\n",
      "Rendimiento sobre el conjunto de prueba (gamma = 100, C = 100): 0.5056179775280899\n",
      "\n",
      "Mejor rendimiento (gamma = 0.01, C = 1): 0.899\n",
      "Peor rendimiento (gamma = 0.01, C = 0.01): 0.506\n"
     ]
    }
   ],
   "source": [
    "import itertools\n",
    "from sklearn.svm import SVC\n",
    "\n",
    "best_score = 0\n",
    "worst_score = 1\n",
    "best_values = [-1,-1]\n",
    "worst_values = [-1,-1]\n",
    "\n",
    "C = [0.01, 1, 100]\n",
    "gamma = [0.01, 1, 100]\n",
    "\n",
    "for (C,gamma) in itertools.product(C, gamma):\n",
    "    svc = SVC(C=C, gamma=gamma, decision_function_shape='ovo').fit(X_train, y_train)\n",
    "    score = svc.score(X_test, y_test)\n",
    "    if score > best_score:\n",
    "        best_score = score\n",
    "        best_values = [C,gamma]\n",
    "        \n",
    "    if score < worst_score:\n",
    "        worst_score = score\n",
    "        worst_values = [C,gamma]\n",
    "    \n",
    "    print(\"Rendimiento sobre el conjunto de entrenamiento (gamma = {}, C = {}): {:.3f}\".format(gamma,C, svc.score(X_train, y_train)))\n",
    "    print(\"Rendimiento sobre el conjunto de prueba (gamma = {}, C = {}): {}\\n\".format(gamma, C, score))\n",
    "    \n",
    "print(\"Mejor rendimiento (gamma = {}, C = {}): {:.3f}\".format(best_values[1], best_values[0], best_score))\n",
    "print(\"Peor rendimiento (gamma = {}, C = {}): {:.3f}\".format(worst_values[1], worst_values[0], worst_score))"
   ]
  },
  {
   "cell_type": "markdown",
   "metadata": {},
   "source": [
    "En este caso, el mejor rendimiento lo obtenemos con `C=1` y `gamma=0.01`, y el peor con `C=0.01` y `gamma=0.01`"
   ]
  }
 ],
 "metadata": {
  "kernelspec": {
   "display_name": "Python 3",
   "language": "python",
   "name": "python3"
  },
  "language_info": {
   "codemirror_mode": {
    "name": "ipython",
    "version": 3
   },
   "file_extension": ".py",
   "mimetype": "text/x-python",
   "name": "python",
   "nbconvert_exporter": "python",
   "pygments_lexer": "ipython3",
   "version": "3.9.9"
  }
 },
 "nbformat": 4,
 "nbformat_minor": 2
}
